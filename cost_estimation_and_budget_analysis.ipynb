{
  "nbformat": 4,
  "nbformat_minor": 0,
  "metadata": {
    "colab": {
      "provenance": [],
      "toc_visible": true
    },
    "kernelspec": {
      "name": "python3",
      "display_name": "Python 3"
    },
    "language_info": {
      "name": "python"
    }
  },
  "cells": [
    {
      "cell_type": "code",
      "source": [
        "# Cost Estimation Function\n",
        "def estimate_total_cost(material_cost, labor_cost, overhead_cost,contingency_percent):\n",
        " contingency = (material_cost + labor_cost + overhead_cost) *(contingency_percent / 100)\n",
        " return material_cost + labor_cost + overhead_cost + contingency\n",
        "# Example Use\n",
        "total_cost = estimate_total_cost(10000, 5000, 2000, 10)\n",
        "print(f\"Estimated Total Project Cost: ${total_cost}\")\n",
        "# Budget Variance Analysis\n",
        "def calculate_variance(estimated, actual):\n",
        " variance = actual - estimated\n",
        " percentage = (variance / estimated) * 100\n",
        " return variance, percentage\n",
        "variance, percentage = calculate_variance(15000, 16000)\n",
        "print(f\"Budget Overrun: ${variance} ({percentage:.2f}%)\")"
      ],
      "metadata": {
        "id": "Wmavilj6W2MM",
        "colab": {
          "base_uri": "https://localhost:8080/"
        },
        "outputId": "da3534be-42f3-46dd-bfad-d6769a6af6db"
      },
      "execution_count": null,
      "outputs": [
        {
          "output_type": "stream",
          "name": "stdout",
          "text": [
            "Estimated Total Project Cost: $18700.0\n",
            "Budget Overrun: $1000 (6.67%)\n"
          ]
        }
      ]
    },
    {
      "cell_type": "code",
      "source": [
        "\n"
      ],
      "metadata": {
        "id": "ORm1XtFStpPz"
      },
      "execution_count": null,
      "outputs": []
    },
    {
      "cell_type": "code",
      "source": [
        "# Collecting project inputs\n",
        "project_data = {\n",
        " \"project_name\": \"IT Infrastructure\",\n",
        " \"material_cost\": 12000,\n",
        " \"labor_cost\": 8000,\n",
        " \"overhead\": 3000,\n",
        " \"contingency_percent\": 15\n",
        "}"
      ],
      "metadata": {
        "id": "TYpG0orXYKo3"
      },
      "execution_count": null,
      "outputs": []
    },
    {
      "cell_type": "code",
      "source": [
        "def compute_project_budget(data):\n",
        " return estimate_total_cost(data['material_cost'], data['labor_cost'],data['overhead'], data['contingency_percent'])"
      ],
      "metadata": {
        "id": "n-IEzLC2YPXi"
      },
      "execution_count": null,
      "outputs": []
    },
    {
      "cell_type": "code",
      "source": [
        "#Report Generator\n",
        "# Generating budget report\n",
        "def generate_report(data, total_cost):\n",
        " return f\"\"\"\n",
        " Project: {data['project_name']}\n",
        " Estimated Budget: ${total_cost}\n",
        " Material: ${data['material_cost']}\n",
        " Labor: ${data['labor_cost']}\n",
        " Overhead: ${data['overhead']}\n",
        " Contingency: {data['contingency_percent']}%\n",
        " \"\"\""
      ],
      "metadata": {
        "id": "q5VhLNPrYixx"
      },
      "execution_count": null,
      "outputs": []
    },
    {
      "cell_type": "code",
      "source": [
        "pip install streamlit"
      ],
      "metadata": {
        "colab": {
          "base_uri": "https://localhost:8080/"
        },
        "id": "nPw85yfhZPy4",
        "outputId": "3e26bc99-67e2-46e0-e6bc-82c69fd78ab0"
      },
      "execution_count": null,
      "outputs": [
        {
          "output_type": "stream",
          "name": "stdout",
          "text": [
            "Collecting streamlit\n",
            "  Using cached streamlit-1.45.1-py3-none-any.whl.metadata (8.9 kB)\n",
            "Requirement already satisfied: altair<6,>=4.0 in /usr/local/lib/python3.11/dist-packages (from streamlit) (5.5.0)\n",
            "Requirement already satisfied: blinker<2,>=1.5.0 in /usr/local/lib/python3.11/dist-packages (from streamlit) (1.9.0)\n",
            "Requirement already satisfied: cachetools<6,>=4.0 in /usr/local/lib/python3.11/dist-packages (from streamlit) (5.5.2)\n",
            "Requirement already satisfied: click<9,>=7.0 in /usr/local/lib/python3.11/dist-packages (from streamlit) (8.1.8)\n",
            "Requirement already satisfied: numpy<3,>=1.23 in /usr/local/lib/python3.11/dist-packages (from streamlit) (2.0.2)\n",
            "Requirement already satisfied: packaging<25,>=20 in /usr/local/lib/python3.11/dist-packages (from streamlit) (24.2)\n",
            "Requirement already satisfied: pandas<3,>=1.4.0 in /usr/local/lib/python3.11/dist-packages (from streamlit) (2.2.2)\n",
            "Requirement already satisfied: pillow<12,>=7.1.0 in /usr/local/lib/python3.11/dist-packages (from streamlit) (11.2.1)\n",
            "Requirement already satisfied: protobuf<7,>=3.20 in /usr/local/lib/python3.11/dist-packages (from streamlit) (5.29.4)\n",
            "Requirement already satisfied: pyarrow>=7.0 in /usr/local/lib/python3.11/dist-packages (from streamlit) (18.1.0)\n",
            "Requirement already satisfied: requests<3,>=2.27 in /usr/local/lib/python3.11/dist-packages (from streamlit) (2.32.3)\n",
            "Requirement already satisfied: tenacity<10,>=8.1.0 in /usr/local/lib/python3.11/dist-packages (from streamlit) (9.1.2)\n",
            "Requirement already satisfied: toml<2,>=0.10.1 in /usr/local/lib/python3.11/dist-packages (from streamlit) (0.10.2)\n",
            "Requirement already satisfied: typing-extensions<5,>=4.4.0 in /usr/local/lib/python3.11/dist-packages (from streamlit) (4.13.2)\n",
            "Collecting watchdog<7,>=2.1.5 (from streamlit)\n",
            "  Downloading watchdog-6.0.0-py3-none-manylinux2014_x86_64.whl.metadata (44 kB)\n",
            "\u001b[2K     \u001b[90m━━━━━━━━━━━━━━━━━━━━━━━━━━━━━━━━━━━━━━━━\u001b[0m \u001b[32m44.3/44.3 kB\u001b[0m \u001b[31m2.1 MB/s\u001b[0m eta \u001b[36m0:00:00\u001b[0m\n",
            "\u001b[?25hRequirement already satisfied: gitpython!=3.1.19,<4,>=3.0.7 in /usr/local/lib/python3.11/dist-packages (from streamlit) (3.1.44)\n",
            "Collecting pydeck<1,>=0.8.0b4 (from streamlit)\n",
            "  Downloading pydeck-0.9.1-py2.py3-none-any.whl.metadata (4.1 kB)\n",
            "Requirement already satisfied: tornado<7,>=6.0.3 in /usr/local/lib/python3.11/dist-packages (from streamlit) (6.4.2)\n",
            "Requirement already satisfied: jinja2 in /usr/local/lib/python3.11/dist-packages (from altair<6,>=4.0->streamlit) (3.1.6)\n",
            "Requirement already satisfied: jsonschema>=3.0 in /usr/local/lib/python3.11/dist-packages (from altair<6,>=4.0->streamlit) (4.23.0)\n",
            "Requirement already satisfied: narwhals>=1.14.2 in /usr/local/lib/python3.11/dist-packages (from altair<6,>=4.0->streamlit) (1.38.2)\n",
            "Requirement already satisfied: gitdb<5,>=4.0.1 in /usr/local/lib/python3.11/dist-packages (from gitpython!=3.1.19,<4,>=3.0.7->streamlit) (4.0.12)\n",
            "Requirement already satisfied: python-dateutil>=2.8.2 in /usr/local/lib/python3.11/dist-packages (from pandas<3,>=1.4.0->streamlit) (2.9.0.post0)\n",
            "Requirement already satisfied: pytz>=2020.1 in /usr/local/lib/python3.11/dist-packages (from pandas<3,>=1.4.0->streamlit) (2025.2)\n",
            "Requirement already satisfied: tzdata>=2022.7 in /usr/local/lib/python3.11/dist-packages (from pandas<3,>=1.4.0->streamlit) (2025.2)\n",
            "Requirement already satisfied: charset-normalizer<4,>=2 in /usr/local/lib/python3.11/dist-packages (from requests<3,>=2.27->streamlit) (3.4.2)\n",
            "Requirement already satisfied: idna<4,>=2.5 in /usr/local/lib/python3.11/dist-packages (from requests<3,>=2.27->streamlit) (3.10)\n",
            "Requirement already satisfied: urllib3<3,>=1.21.1 in /usr/local/lib/python3.11/dist-packages (from requests<3,>=2.27->streamlit) (2.4.0)\n",
            "Requirement already satisfied: certifi>=2017.4.17 in /usr/local/lib/python3.11/dist-packages (from requests<3,>=2.27->streamlit) (2025.4.26)\n",
            "Requirement already satisfied: smmap<6,>=3.0.1 in /usr/local/lib/python3.11/dist-packages (from gitdb<5,>=4.0.1->gitpython!=3.1.19,<4,>=3.0.7->streamlit) (5.0.2)\n",
            "Requirement already satisfied: MarkupSafe>=2.0 in /usr/local/lib/python3.11/dist-packages (from jinja2->altair<6,>=4.0->streamlit) (3.0.2)\n",
            "Requirement already satisfied: attrs>=22.2.0 in /usr/local/lib/python3.11/dist-packages (from jsonschema>=3.0->altair<6,>=4.0->streamlit) (25.3.0)\n",
            "Requirement already satisfied: jsonschema-specifications>=2023.03.6 in /usr/local/lib/python3.11/dist-packages (from jsonschema>=3.0->altair<6,>=4.0->streamlit) (2025.4.1)\n",
            "Requirement already satisfied: referencing>=0.28.4 in /usr/local/lib/python3.11/dist-packages (from jsonschema>=3.0->altair<6,>=4.0->streamlit) (0.36.2)\n",
            "Requirement already satisfied: rpds-py>=0.7.1 in /usr/local/lib/python3.11/dist-packages (from jsonschema>=3.0->altair<6,>=4.0->streamlit) (0.24.0)\n",
            "Requirement already satisfied: six>=1.5 in /usr/local/lib/python3.11/dist-packages (from python-dateutil>=2.8.2->pandas<3,>=1.4.0->streamlit) (1.17.0)\n",
            "Downloading streamlit-1.45.1-py3-none-any.whl (9.9 MB)\n",
            "\u001b[2K   \u001b[90m━━━━━━━━━━━━━━━━━━━━━━━━━━━━━━━━━━━━━━━━\u001b[0m \u001b[32m9.9/9.9 MB\u001b[0m \u001b[31m34.7 MB/s\u001b[0m eta \u001b[36m0:00:00\u001b[0m\n",
            "\u001b[?25hDownloading pydeck-0.9.1-py2.py3-none-any.whl (6.9 MB)\n",
            "\u001b[2K   \u001b[90m━━━━━━━━━━━━━━━━━━━━━━━━━━━━━━━━━━━━━━━━\u001b[0m \u001b[32m6.9/6.9 MB\u001b[0m \u001b[31m26.5 MB/s\u001b[0m eta \u001b[36m0:00:00\u001b[0m\n",
            "\u001b[?25hDownloading watchdog-6.0.0-py3-none-manylinux2014_x86_64.whl (79 kB)\n",
            "\u001b[2K   \u001b[90m━━━━━━━━━━━━━━━━━━━━━━━━━━━━━━━━━━━━━━━━\u001b[0m \u001b[32m79.1/79.1 kB\u001b[0m \u001b[31m6.1 MB/s\u001b[0m eta \u001b[36m0:00:00\u001b[0m\n",
            "\u001b[?25hInstalling collected packages: watchdog, pydeck, streamlit\n",
            "Successfully installed pydeck-0.9.1 streamlit-1.45.1 watchdog-6.0.0\n"
          ]
        }
      ]
    },
    {
      "cell_type": "code",
      "source": [
        "# Real-Time Graph (using Streamlit)\n",
        "import streamlit as st\n",
        "import matplotlib.pyplot as plt\n",
        "estimated = [10000, 12000, 14000]\n",
        "actual = [11000, 11500, 15000]\n",
        "st.line_chart({\"Estimated\": estimated, \"Actual\": actual})2025-05-15 14:42:54.680 Thread 'MainThread': missing ScriptRunContext! This warning can be ignored when running in bare mode.\n",
        "2025-05-15 14:42:54.681 Thread 'MainThread': missin"
      ],
      "metadata": {
        "colab": {
          "base_uri": "https://localhost:8080/"
        },
        "id": "CVWkl5iUZYwk",
        "outputId": "46273e5b-b811-4ca1-f5d7-e9c323e6f375"
      },
      "execution_count": null,
      "outputs": [
        {
          "output_type": "stream",
          "name": "stderr",
          "text": [
            "2025-05-15 14:42:54.680 Thread 'MainThread': missing ScriptRunContext! This warning can be ignored when running in bare mode.\n",
            "2025-05-15 14:42:54.681 Thread 'MainThread': missing ScriptRunContext! This warning can be ignored when running in bare mode.\n"
          ]
        },
        {
          "output_type": "execute_result",
          "data": {
            "text/plain": [
              "DeltaGenerator()"
            ]
          },
          "metadata": {},
          "execution_count": 18
        }
      ]
    },
    {
      "cell_type": "code",
      "source": [
        "# Simple AI Estimation Example (Linear Regression)\n",
        "from sklearn.linear_model import LinearRegression\n",
        "import numpy as np\n",
        "# Historical data\n",
        "X = np.array([[100], [200], [300]]) # Hours worked\n",
        "y = np.array([1000, 1800, 2500]) # Cost\n",
        "model = LinearRegression().fit(X, y)\n",
        "future_cost = model.predict(np.array([[400]]))\n",
        "print(f\"Predicted cost for 400 hours: ${future_cost[0]:.2f}\")"
      ],
      "metadata": {
        "colab": {
          "base_uri": "https://localhost:8080/"
        },
        "id": "gRg5BfWTZd_J",
        "outputId": "d2ce1f63-5db8-47db-9b29-ce20453f623f"
      },
      "execution_count": null,
      "outputs": [
        {
          "output_type": "stream",
          "name": "stdout",
          "text": [
            "Predicted cost for 400 hours: $3266.67\n"
          ]
        }
      ]
    },
    {
      "cell_type": "code",
      "source": [
        "import pandas as pd\n",
        "\n",
        "# Load the dataset\n",
        "df = pd.read_csv('/content/large_budget_data.csv')\n",
        "\n",
        "# Calculate variance\n",
        "df['Cost_Variance'] = df['Actual_Cost'] - df['Estimated_Cost']\n",
        "df['Status'] = df['Cost_Variance'].apply(lambda x: 'Under Budget' if x <= 0 else 'Over Budget')\n",
        "\n",
        "# Total Estimation vs Actual\n",
        "total_estimated = df['Estimated_Cost'].sum()\n",
        "total_actual = df['Actual_Cost'].sum()\n",
        "total_variance = total_actual - total_estimated\n",
        "\n",
        "# Display results\n",
        "print(\"=== Cost Estimation and Budget Analysis ===\")\n",
        "print(df)\n",
        "print(\"\\nTotal Estimated Cost:\", total_estimated)\n",
        "print(\"Total Actual Cost:\", total_actual)\n",
        "print(\"Total Variance:\", total_variance)\n",
        "print(\"Project Status:\", \"Under Budget\" if total_variance <= 0 else \"Over Budget\")"
      ],
      "metadata": {
        "id": "IyNdOVv1Zj6s",
        "outputId": "9b248061-1a0e-430e-8ec4-48fa86748b6b",
        "colab": {
          "base_uri": "https://localhost:8080/"
        }
      },
      "execution_count": null,
      "outputs": [
        {
          "output_type": "stream",
          "name": "stdout",
          "text": [
            "=== Cost Estimation and Budget Analysis ===\n",
            "              Item  Estimated_Cost  Actual_Cost  Budget  Cost_Variance  \\\n",
            "0        Packaging            8577         1019   50000          -7558   \n",
            "1        Transport            4711         9132   50000           4421   \n",
            "2      Maintenance            3960         9126   50000           5166   \n",
            "3        Packaging            5830         8481   50000           2651   \n",
            "4        Marketing            6458         6540   50000             82   \n",
            "...            ...             ...          ...     ...            ...   \n",
            "49995    Logistics            9661         2148   50000          -7513   \n",
            "49996    Logistics            1522         3237   50000           1715   \n",
            "49997    Marketing            4355         6835   50000           2480   \n",
            "49998        Labor            9172         8319   50000           -853   \n",
            "49999    Marketing            1743         2023   50000            280   \n",
            "\n",
            "             Status  \n",
            "0      Under Budget  \n",
            "1       Over Budget  \n",
            "2       Over Budget  \n",
            "3       Over Budget  \n",
            "4       Over Budget  \n",
            "...             ...  \n",
            "49995  Under Budget  \n",
            "49996   Over Budget  \n",
            "49997   Over Budget  \n",
            "49998  Under Budget  \n",
            "49999   Over Budget  \n",
            "\n",
            "[50000 rows x 6 columns]\n",
            "\n",
            "Total Estimated Cost: 275462034\n",
            "Total Actual Cost: 275693848\n",
            "Total Variance: 231814\n",
            "Project Status: Over Budget\n"
          ]
        }
      ]
    }
  ]
}